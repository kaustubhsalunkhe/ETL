{
 "cells": [
  {
   "cell_type": "code",
   "execution_count": 2,
   "id": "ed1edeef-ef20-47bd-b4c1-daacd5591673",
   "metadata": {},
   "outputs": [
    {
     "name": "stdout",
     "output_type": "stream",
     "text": [
      "Collecting psycopg2-binary\n",
      "  Downloading psycopg2_binary-2.9.10-cp39-cp39-win_amd64.whl.metadata (5.0 kB)\n",
      "Downloading psycopg2_binary-2.9.10-cp39-cp39-win_amd64.whl (1.2 MB)\n",
      "   ---------------------------------------- 0.0/1.2 MB ? eta -:--:--\n",
      "   --------- ------------------------------ 0.3/1.2 MB ? eta -:--:--\n",
      "   --------------------------- ------------ 0.8/1.2 MB 1.7 MB/s eta 0:00:01\n",
      "   ------------------------------------ --- 1.0/1.2 MB 1.6 MB/s eta 0:00:01\n",
      "   ------------------------------------ --- 1.0/1.2 MB 1.6 MB/s eta 0:00:01\n",
      "   ---------------------------------------- 1.2/1.2 MB 1.1 MB/s eta 0:00:00\n",
      "Installing collected packages: psycopg2-binary\n",
      "Successfully installed psycopg2-binary-2.9.10\n",
      "Note: you may need to restart the kernel to use updated packages.\n"
     ]
    },
    {
     "name": "stderr",
     "output_type": "stream",
     "text": [
      "\n",
      "[notice] A new release of pip is available: 24.3.1 -> 25.0.1\n",
      "[notice] To update, run: python.exe -m pip install --upgrade pip\n"
     ]
    }
   ],
   "source": [
    "pip install psycopg2-binary\n"
   ]
  },
  {
   "cell_type": "code",
   "execution_count": 4,
   "id": "85be3378-413b-475b-9868-a0ae8c8e5ce5",
   "metadata": {},
   "outputs": [
    {
     "name": "stdout",
     "output_type": "stream",
     "text": [
      "Collecting sqlalchemy\n",
      "  Downloading sqlalchemy-2.0.39-cp39-cp39-win_amd64.whl.metadata (9.9 kB)\n",
      "Collecting greenlet!=0.4.17 (from sqlalchemy)\n",
      "  Downloading greenlet-3.1.1-cp39-cp39-win_amd64.whl.metadata (3.9 kB)\n",
      "Requirement already satisfied: typing-extensions>=4.6.0 in c:\\users\\kaust\\appdata\\local\\programs\\python\\python39\\lib\\site-packages (from sqlalchemy) (4.8.0)\n",
      "Downloading sqlalchemy-2.0.39-cp39-cp39-win_amd64.whl (2.1 MB)\n",
      "   ---------------------------------------- 0.0/2.1 MB ? eta -:--:--\n",
      "   --------- ------------------------------ 0.5/2.1 MB 3.4 MB/s eta 0:00:01\n",
      "   ------------------- -------------------- 1.0/2.1 MB 2.8 MB/s eta 0:00:01\n",
      "   ---------------------------------- ----- 1.8/2.1 MB 3.1 MB/s eta 0:00:01\n",
      "   ---------------------------------------- 2.1/2.1 MB 3.0 MB/s eta 0:00:00\n",
      "Downloading greenlet-3.1.1-cp39-cp39-win_amd64.whl (298 kB)\n",
      "Installing collected packages: greenlet, sqlalchemy\n",
      "Successfully installed greenlet-3.1.1 sqlalchemy-2.0.39\n",
      "Note: you may need to restart the kernel to use updated packages.\n"
     ]
    },
    {
     "name": "stderr",
     "output_type": "stream",
     "text": [
      "\n",
      "[notice] A new release of pip is available: 24.3.1 -> 25.0.1\n",
      "[notice] To update, run: python.exe -m pip install --upgrade pip\n"
     ]
    }
   ],
   "source": [
    "pip install sqlalchemy\n"
   ]
  },
  {
   "cell_type": "code",
   "execution_count": 5,
   "id": "9f161f27-cfa2-418d-a5ee-ccf13db07ea9",
   "metadata": {},
   "outputs": [],
   "source": [
    "import psycopg2\n",
    "import pandas as pd\n",
    "from sqlalchemy import create_engine"
   ]
  },
  {
   "cell_type": "code",
   "execution_count": 14,
   "id": "9fe0af57-a4bd-4c0d-b7e5-c49fa8d101c6",
   "metadata": {},
   "outputs": [
    {
     "name": "stdout",
     "output_type": "stream",
     "text": [
      "\n",
      "\n",
      "Connection to the PostgreSQL database established successfully.\n",
      "\n",
      "\n",
      "    id          full_name   age\n",
      "0    1  Kaustubh Salunkhe  26.0\n",
      "1    2    Kishor Salunkhe  61.0\n",
      "2    3    Manali Salunkhe  49.0\n",
      "3    4    Sayali Salunkhe  29.0\n",
      "4    5  Arnab Debadhikari  28.0\n",
      "5    6      Rohit Divekar  25.0\n",
      "6    7        Amey Chavan  31.0\n",
      "7    8        Hariram Pal   NaN\n",
      "8    9        Bipin Rawat  56.0\n",
      "9   10        Kunal Patil   NaN\n",
      "10  11     Kiran Salunkhe   NaN\n",
      "11  12     Suraj Salunkhe   NaN\n",
      "Cleaned DataFrame:\n",
      "    id          full_name   age\n",
      "0    1  Kaustubh Salunkhe  26.0\n",
      "1    2    Kishor Salunkhe  61.0\n",
      "2    3    Manali Salunkhe  49.0\n",
      "3    4    Sayali Salunkhe  29.0\n",
      "4    5  Arnab Debadhikari  28.0\n",
      "5    6      Rohit Divekar  25.0\n",
      "6    7        Amey Chavan  31.0\n",
      "7    8        Hariram Pal   NaN\n",
      "8    9        Bipin Rawat  56.0\n",
      "9   10        Kunal Patil   NaN\n",
      "10  11     Kiran Salunkhe   NaN\n",
      "11  12     Suraj Salunkhe   NaN\n",
      "\n",
      "\n",
      "DataFrame after splitting Full Names:\n",
      "\n",
      "\n",
      "    id   age first_name    last_name\n",
      "0    1  26.0   Kaustubh     Salunkhe\n",
      "1    2  61.0     Kishor     Salunkhe\n",
      "2    3  49.0     Manali     Salunkhe\n",
      "3    4  29.0     Sayali     Salunkhe\n",
      "4    5  28.0      Arnab  Debadhikari\n",
      "5    6  25.0      Rohit      Divekar\n",
      "6    7  31.0       Amey       Chavan\n",
      "7    8   NaN    Hariram          Pal\n",
      "8    9  56.0      Bipin        Rawat\n",
      "9   10   NaN      Kunal        Patil\n",
      "10  11   NaN      Kiran     Salunkhe\n",
      "11  12   NaN      Suraj     Salunkhe\n",
      "Data loaded successfully into PostgreSQL.\n"
     ]
    }
   ],
   "source": [
    "#Define your connection parameters\n",
    "hostname = 'localhost'\n",
    "database = 'postgres'\n",
    "username = 'postgres'\n",
    "password = 'admin'\n",
    "port_id = '5432'\n",
    "\n",
    "#Step 1 : Extract data using psycopg2 and transform it with pandas \n",
    "try:\n",
    "    conn = psycopg2.connect(\n",
    "        host=hostname,\n",
    "        database=database,\n",
    "        user=username,\n",
    "        password=password,\n",
    "        port=port_id\n",
    "    )\n",
    "\n",
    "#print a message when the connection is established \n",
    "    print(\"\\n\\nConnection to the PostgreSQL database established successfully.\\n\\n\")\n",
    "\n",
    "#create a cursor object \n",
    "    cur = conn.cursor()\n",
    "\n",
    "#Execute a query to fetch Data \n",
    "    cur.execute('SELECT * FROM customer_info')\n",
    "\n",
    "#fetch the results\n",
    "    records = cur.fetchall()\n",
    "\n",
    "#extract column names from the cursor \n",
    "    colnames = [desc[0] for desc in cur.description]\n",
    "\n",
    "#Transform the result into a dataframe\n",
    "    df = pd.DataFrame(records, columns=colnames)\n",
    "    print(df)\n",
    "\n",
    "    cur.close()\n",
    "except (Exception, psycopg2.DatabaseError) as error :\n",
    "    print(error)\n",
    "finally: \n",
    "    if conn is not None:\n",
    "        conn.close()\n",
    "\n",
    "#step 2 : Clean and Transform Data\n",
    "df_cleaned = df.dropna(subset=['full_name'])\n",
    "print(\"Cleaned DataFrame:\")\n",
    "print(df_cleaned)\n",
    "\n",
    "def split_full_name(df_cleaned):\n",
    "    first_names = []\n",
    "    last_names = []\n",
    "\n",
    "    for name in df_cleaned['full_name']:\n",
    "        parts = name.split(' ',1)\n",
    "        first_names.append(parts[0])\n",
    "        last_names.append(parts[1] if len(parts) > 1 else '')\n",
    "\n",
    "    df_cleaned['first_name'] = first_names\n",
    "    df_cleaned['last_name'] = last_names\n",
    "\n",
    "    df_cleaned = df_cleaned.drop(columns=['full_name'])\n",
    "    return df_cleaned\n",
    "\n",
    "df_cleaned = split_full_name(df_cleaned)\n",
    "print(\"\\n\\nDataFrame after splitting Full Names:\\n\\n\")\n",
    "print(df_cleaned)\n",
    "\n",
    "\n",
    "#Step 3 : Load the dataframe into PostgreSQL using SQLAlchemy\n",
    "\n",
    "#Create SQLAlchemy engine \n",
    "engine = create_engine(f'postgresql+psycopg2://{username}:{password}@{hostname}:{port_id}/{database}')\n",
    "\n",
    "\n",
    "#Load The Dataframe into the PostgreSQL Table\n",
    "#The Table will be created if it does not exist or data will be appended if it does \n",
    "\n",
    "df_cleaned.to_sql('cleaned_customer_info', engine, index=False, if_exists='append')\n",
    "print(\"Data loaded successfully into PostgreSQL.\")\n",
    "\n",
    "\n",
    "\n",
    "    "
   ]
  },
  {
   "cell_type": "code",
   "execution_count": null,
   "id": "408e4ac9-12ae-4998-95c7-6f02418b9353",
   "metadata": {},
   "outputs": [],
   "source": []
  }
 ],
 "metadata": {
  "kernelspec": {
   "display_name": "Python 3 (ipykernel)",
   "language": "python",
   "name": "python3"
  },
  "language_info": {
   "codemirror_mode": {
    "name": "ipython",
    "version": 3
   },
   "file_extension": ".py",
   "mimetype": "text/x-python",
   "name": "python",
   "nbconvert_exporter": "python",
   "pygments_lexer": "ipython3",
   "version": "3.9.11"
  }
 },
 "nbformat": 4,
 "nbformat_minor": 5
}
